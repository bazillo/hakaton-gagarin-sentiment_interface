{
 "metadata": {
  "colab": {
   "provenance": []
  },
  "kernelspec": {
   "name": "python3",
   "display_name": "Python 3"
  },
  "language_info": {
   "name": "python",
   "version": "3.10.13",
   "mimetype": "text/x-python",
   "codemirror_mode": {
    "name": "ipython",
    "version": 3
   },
   "pygments_lexer": "ipython3",
   "nbconvert_exporter": "python",
   "file_extension": ".py"
  },
  "kaggle": {
   "accelerator": "nvidiaTeslaT4",
   "dataSources": [
    {
     "sourceId": 8108372,
     "sourceType": "datasetVersion",
     "datasetId": 4782804
    }
   ],
   "dockerImageVersionId": 30683,
   "isInternetEnabled": true,
   "language": "python",
   "sourceType": "notebook",
   "isGpuEnabled": true
  }
 },
 "nbformat_minor": 0,
 "nbformat": 4,
 "cells": [
  {
   "cell_type": "markdown",
   "source": [
    "## STEP 1: Preprocessing text"
   ],
   "metadata": {
    "id": "RDE84WiPs378",
    "pycharm": {
     "name": "#%% md\n"
    }
   }
  },
  {
   "cell_type": "code",
   "source": [
    "import pandas as pd\n",
    "import numpy as np\n",
    "import re"
   ],
   "metadata": {
    "execution": {
     "iopub.status.busy": "2024-04-13T16:53:43.677430Z",
     "iopub.execute_input": "2024-04-13T16:53:43.677810Z",
     "iopub.status.idle": "2024-04-13T16:53:43.688652Z",
     "shell.execute_reply.started": "2024-04-13T16:53:43.677778Z",
     "shell.execute_reply": "2024-04-13T16:53:43.687815Z"
    },
    "trusted": true,
    "id": "0xjzUzons38A",
    "pycharm": {
     "name": "#%%\n"
    }
   },
   "execution_count": 2,
   "outputs": []
  },
  {
   "cell_type": "code",
   "source": [
    "from google.colab import drive\n",
    "drive.mount('/content/drive')"
   ],
   "metadata": {
    "colab": {
     "base_uri": "https://localhost:8080/"
    },
    "id": "2LFq1JJttU7-",
    "outputId": "8b294c9b-83e3-45f1-ae93-1a0a226c59c5",
    "pycharm": {
     "name": "#%%\n"
    }
   },
   "execution_count": 3,
   "outputs": [
    {
     "output_type": "stream",
     "name": "stdout",
     "text": [
      "Mounted at /content/drive\n"
     ]
    }
   ]
  },
  {
   "cell_type": "code",
   "source": [
    "!unzip 'drive/MyDrive/sentiment_dataset.zip'"
   ],
   "metadata": {
    "colab": {
     "base_uri": "https://localhost:8080/"
    },
    "id": "RwNkAvUltcbt",
    "outputId": "ebeecc84-eb09-48a6-9850-697a16f57a36",
    "pycharm": {
     "name": "#%%\n"
    }
   },
   "execution_count": 4,
   "outputs": [
    {
     "output_type": "stream",
     "name": "stdout",
     "text": [
      "Archive:  drive/MyDrive/sentiment_dataset.zip\n",
      "  inflating: issuers.xlsx            \n",
      "  inflating: mentions texts.pickle   \n",
      "  inflating: mentions.csv            \n",
      "  inflating: sentiment.csv           \n",
      "  inflating: sentiment_texts.pickle  \n"
     ]
    }
   ]
  },
  {
   "cell_type": "code",
   "source": [
    "# Список синонимов для каждой компании\n",
    "synonyms_db = pd.read_csv('drive/MyDrive/new_names_and_synonyms.csv')"
   ],
   "metadata": {
    "execution": {
     "iopub.status.busy": "2024-04-13T16:53:43.691337Z",
     "iopub.execute_input": "2024-04-13T16:53:43.691660Z",
     "iopub.status.idle": "2024-04-13T16:53:43.718481Z",
     "shell.execute_reply.started": "2024-04-13T16:53:43.691607Z",
     "shell.execute_reply": "2024-04-13T16:53:43.717371Z"
    },
    "trusted": true,
    "id": "PQcNC_bPs38A",
    "pycharm": {
     "name": "#%%\n"
    }
   },
   "execution_count": 89,
   "outputs": []
  },
  {
   "cell_type": "code",
   "source": [
    "stripped_series = synonyms_db['EMITENT_FULL_NAME'].str.strip().str.lower().dropna()\n",
    "# Сплитим, удаляем пробельные символы в начале и в конце строки\n",
    "synonyms = stripped_series.str.split(',').apply(lambda lst: np.array(list(set([item.strip() for item in lst if item.strip()])))).values"
   ],
   "metadata": {
    "execution": {
     "iopub.status.busy": "2024-04-13T16:53:43.719949Z",
     "iopub.execute_input": "2024-04-13T16:53:43.720357Z",
     "iopub.status.idle": "2024-04-13T16:53:43.736464Z",
     "shell.execute_reply.started": "2024-04-13T16:53:43.720323Z",
     "shell.execute_reply": "2024-04-13T16:53:43.735304Z"
    },
    "trusted": true,
    "id": "nTTp8uMYs38A",
    "pycharm": {
     "name": "#%%\n"
    }
   },
   "execution_count": 90,
   "outputs": []
  },
  {
   "cell_type": "code",
   "source": [
    "mentions = pd.read_pickle(\"mentions texts.pickle\")\n",
    "sentiment = pd.read_pickle(\"sentiment_texts.pickle\")"
   ],
   "metadata": {
    "id": "pxxZYF5vCk80",
    "execution": {
     "iopub.status.busy": "2024-04-13T16:58:44.847249Z",
     "iopub.execute_input": "2024-04-13T16:58:44.847954Z",
     "iopub.status.idle": "2024-04-13T16:58:45.623888Z",
     "shell.execute_reply.started": "2024-04-13T16:58:44.847914Z",
     "shell.execute_reply": "2024-04-13T16:58:45.622894Z"
    },
    "trusted": true,
    "pycharm": {
     "name": "#%%\n"
    }
   },
   "execution_count": 91,
   "outputs": []
  },
  {
   "cell_type": "code",
   "source": [
    "xl = pd.ExcelFile(\"issuers.xlsx\")\n",
    "issuers = xl.parse(\"Sheet1\")\n",
    "issuers.tail()"
   ],
   "metadata": {
    "colab": {
     "base_uri": "https://localhost:8080/",
     "height": 206
    },
    "id": "8dASGhyipC4Z",
    "outputId": "7c4e822d-3e29-4e55-8c2c-0b62f5f3a03e",
    "pycharm": {
     "name": "#%%\n"
    }
   },
   "execution_count": 62,
   "outputs": [
    {
     "output_type": "execute_result",
     "data": {
      "text/plain": [
       "     Unnamed: 0  issuerid        EMITENT_FULL_NAME           datetrackstart  \\\n",
       "250         250       270                Henderson  2024-01-24 00:00:00.000   \n",
       "251         251       271               Совкомбанк  2024-01-24 00:00:00.000   \n",
       "252         252       272                Евротранс  2024-01-24 00:00:00.000   \n",
       "253         253       273  \"Каршеринг Руссия\", ПАО  2024-02-20 00:00:00.000   \n",
       "254         254       274                  Диасофт  2024-02-20 00:00:00.000   \n",
       "\n",
       "     datetrackend BGTicker           OtherTicker  \n",
       "250           NaN      NaN  HNFG                  \n",
       "251           NaN      NaN  SVCB                  \n",
       "252           NaN      NaN  EUTR                  \n",
       "253           NaN      NaN  DELI                  \n",
       "254           NaN      NaN  DIAS                  "
      ],
      "text/html": [
       "\n",
       "  <div id=\"df-46aa35e4-3593-4ee0-966f-e4c86724fd7e\" class=\"colab-df-container\">\n",
       "    <div>\n",
       "<style scoped>\n",
       "    .dataframe tbody tr th:only-of-type {\n",
       "        vertical-align: middle;\n",
       "    }\n",
       "\n",
       "    .dataframe tbody tr th {\n",
       "        vertical-align: top;\n",
       "    }\n",
       "\n",
       "    .dataframe thead th {\n",
       "        text-align: right;\n",
       "    }\n",
       "</style>\n",
       "<table border=\"1\" class=\"dataframe\">\n",
       "  <thead>\n",
       "    <tr style=\"text-align: right;\">\n",
       "      <th></th>\n",
       "      <th>Unnamed: 0</th>\n",
       "      <th>issuerid</th>\n",
       "      <th>EMITENT_FULL_NAME</th>\n",
       "      <th>datetrackstart</th>\n",
       "      <th>datetrackend</th>\n",
       "      <th>BGTicker</th>\n",
       "      <th>OtherTicker</th>\n",
       "    </tr>\n",
       "  </thead>\n",
       "  <tbody>\n",
       "    <tr>\n",
       "      <th>250</th>\n",
       "      <td>250</td>\n",
       "      <td>270</td>\n",
       "      <td>Henderson</td>\n",
       "      <td>2024-01-24 00:00:00.000</td>\n",
       "      <td>NaN</td>\n",
       "      <td>NaN</td>\n",
       "      <td>HNFG</td>\n",
       "    </tr>\n",
       "    <tr>\n",
       "      <th>251</th>\n",
       "      <td>251</td>\n",
       "      <td>271</td>\n",
       "      <td>Совкомбанк</td>\n",
       "      <td>2024-01-24 00:00:00.000</td>\n",
       "      <td>NaN</td>\n",
       "      <td>NaN</td>\n",
       "      <td>SVCB</td>\n",
       "    </tr>\n",
       "    <tr>\n",
       "      <th>252</th>\n",
       "      <td>252</td>\n",
       "      <td>272</td>\n",
       "      <td>Евротранс</td>\n",
       "      <td>2024-01-24 00:00:00.000</td>\n",
       "      <td>NaN</td>\n",
       "      <td>NaN</td>\n",
       "      <td>EUTR</td>\n",
       "    </tr>\n",
       "    <tr>\n",
       "      <th>253</th>\n",
       "      <td>253</td>\n",
       "      <td>273</td>\n",
       "      <td>\"Каршеринг Руссия\", ПАО</td>\n",
       "      <td>2024-02-20 00:00:00.000</td>\n",
       "      <td>NaN</td>\n",
       "      <td>NaN</td>\n",
       "      <td>DELI</td>\n",
       "    </tr>\n",
       "    <tr>\n",
       "      <th>254</th>\n",
       "      <td>254</td>\n",
       "      <td>274</td>\n",
       "      <td>Диасофт</td>\n",
       "      <td>2024-02-20 00:00:00.000</td>\n",
       "      <td>NaN</td>\n",
       "      <td>NaN</td>\n",
       "      <td>DIAS</td>\n",
       "    </tr>\n",
       "  </tbody>\n",
       "</table>\n",
       "</div>\n",
       "    <div class=\"colab-df-buttons\">\n",
       "\n",
       "  <div class=\"colab-df-container\">\n",
       "    <button class=\"colab-df-convert\" onclick=\"convertToInteractive('df-46aa35e4-3593-4ee0-966f-e4c86724fd7e')\"\n",
       "            title=\"Convert this dataframe to an interactive table.\"\n",
       "            style=\"display:none;\">\n",
       "\n",
       "  <svg xmlns=\"http://www.w3.org/2000/svg\" height=\"24px\" viewBox=\"0 -960 960 960\">\n",
       "    <path d=\"M120-120v-720h720v720H120Zm60-500h600v-160H180v160Zm220 220h160v-160H400v160Zm0 220h160v-160H400v160ZM180-400h160v-160H180v160Zm440 0h160v-160H620v160ZM180-180h160v-160H180v160Zm440 0h160v-160H620v160Z\"/>\n",
       "  </svg>\n",
       "    </button>\n",
       "\n",
       "  <style>\n",
       "    .colab-df-container {\n",
       "      display:flex;\n",
       "      gap: 12px;\n",
       "    }\n",
       "\n",
       "    .colab-df-convert {\n",
       "      background-color: #E8F0FE;\n",
       "      border: none;\n",
       "      border-radius: 50%;\n",
       "      cursor: pointer;\n",
       "      display: none;\n",
       "      fill: #1967D2;\n",
       "      height: 32px;\n",
       "      padding: 0 0 0 0;\n",
       "      width: 32px;\n",
       "    }\n",
       "\n",
       "    .colab-df-convert:hover {\n",
       "      background-color: #E2EBFA;\n",
       "      box-shadow: 0px 1px 2px rgba(60, 64, 67, 0.3), 0px 1px 3px 1px rgba(60, 64, 67, 0.15);\n",
       "      fill: #174EA6;\n",
       "    }\n",
       "\n",
       "    .colab-df-buttons div {\n",
       "      margin-bottom: 4px;\n",
       "    }\n",
       "\n",
       "    [theme=dark] .colab-df-convert {\n",
       "      background-color: #3B4455;\n",
       "      fill: #D2E3FC;\n",
       "    }\n",
       "\n",
       "    [theme=dark] .colab-df-convert:hover {\n",
       "      background-color: #434B5C;\n",
       "      box-shadow: 0px 1px 3px 1px rgba(0, 0, 0, 0.15);\n",
       "      filter: drop-shadow(0px 1px 2px rgba(0, 0, 0, 0.3));\n",
       "      fill: #FFFFFF;\n",
       "    }\n",
       "  </style>\n",
       "\n",
       "    <script>\n",
       "      const buttonEl =\n",
       "        document.querySelector('#df-46aa35e4-3593-4ee0-966f-e4c86724fd7e button.colab-df-convert');\n",
       "      buttonEl.style.display =\n",
       "        google.colab.kernel.accessAllowed ? 'block' : 'none';\n",
       "\n",
       "      async function convertToInteractive(key) {\n",
       "        const element = document.querySelector('#df-46aa35e4-3593-4ee0-966f-e4c86724fd7e');\n",
       "        const dataTable =\n",
       "          await google.colab.kernel.invokeFunction('convertToInteractive',\n",
       "                                                    [key], {});\n",
       "        if (!dataTable) return;\n",
       "\n",
       "        const docLinkHtml = 'Like what you see? Visit the ' +\n",
       "          '<a target=\"_blank\" href=https://colab.research.google.com/notebooks/data_table.ipynb>data table notebook</a>'\n",
       "          + ' to learn more about interactive tables.';\n",
       "        element.innerHTML = '';\n",
       "        dataTable['output_type'] = 'display_data';\n",
       "        await google.colab.output.renderOutput(dataTable, element);\n",
       "        const docLink = document.createElement('div');\n",
       "        docLink.innerHTML = docLinkHtml;\n",
       "        element.appendChild(docLink);\n",
       "      }\n",
       "    </script>\n",
       "  </div>\n",
       "\n",
       "\n",
       "<div id=\"df-11714b3c-a36d-4f26-916d-4e20f7c7d4e3\">\n",
       "  <button class=\"colab-df-quickchart\" onclick=\"quickchart('df-11714b3c-a36d-4f26-916d-4e20f7c7d4e3')\"\n",
       "            title=\"Suggest charts\"\n",
       "            style=\"display:none;\">\n",
       "\n",
       "<svg xmlns=\"http://www.w3.org/2000/svg\" height=\"24px\"viewBox=\"0 0 24 24\"\n",
       "     width=\"24px\">\n",
       "    <g>\n",
       "        <path d=\"M19 3H5c-1.1 0-2 .9-2 2v14c0 1.1.9 2 2 2h14c1.1 0 2-.9 2-2V5c0-1.1-.9-2-2-2zM9 17H7v-7h2v7zm4 0h-2V7h2v10zm4 0h-2v-4h2v4z\"/>\n",
       "    </g>\n",
       "</svg>\n",
       "  </button>\n",
       "\n",
       "<style>\n",
       "  .colab-df-quickchart {\n",
       "      --bg-color: #E8F0FE;\n",
       "      --fill-color: #1967D2;\n",
       "      --hover-bg-color: #E2EBFA;\n",
       "      --hover-fill-color: #174EA6;\n",
       "      --disabled-fill-color: #AAA;\n",
       "      --disabled-bg-color: #DDD;\n",
       "  }\n",
       "\n",
       "  [theme=dark] .colab-df-quickchart {\n",
       "      --bg-color: #3B4455;\n",
       "      --fill-color: #D2E3FC;\n",
       "      --hover-bg-color: #434B5C;\n",
       "      --hover-fill-color: #FFFFFF;\n",
       "      --disabled-bg-color: #3B4455;\n",
       "      --disabled-fill-color: #666;\n",
       "  }\n",
       "\n",
       "  .colab-df-quickchart {\n",
       "    background-color: var(--bg-color);\n",
       "    border: none;\n",
       "    border-radius: 50%;\n",
       "    cursor: pointer;\n",
       "    display: none;\n",
       "    fill: var(--fill-color);\n",
       "    height: 32px;\n",
       "    padding: 0;\n",
       "    width: 32px;\n",
       "  }\n",
       "\n",
       "  .colab-df-quickchart:hover {\n",
       "    background-color: var(--hover-bg-color);\n",
       "    box-shadow: 0 1px 2px rgba(60, 64, 67, 0.3), 0 1px 3px 1px rgba(60, 64, 67, 0.15);\n",
       "    fill: var(--button-hover-fill-color);\n",
       "  }\n",
       "\n",
       "  .colab-df-quickchart-complete:disabled,\n",
       "  .colab-df-quickchart-complete:disabled:hover {\n",
       "    background-color: var(--disabled-bg-color);\n",
       "    fill: var(--disabled-fill-color);\n",
       "    box-shadow: none;\n",
       "  }\n",
       "\n",
       "  .colab-df-spinner {\n",
       "    border: 2px solid var(--fill-color);\n",
       "    border-color: transparent;\n",
       "    border-bottom-color: var(--fill-color);\n",
       "    animation:\n",
       "      spin 1s steps(1) infinite;\n",
       "  }\n",
       "\n",
       "  @keyframes spin {\n",
       "    0% {\n",
       "      border-color: transparent;\n",
       "      border-bottom-color: var(--fill-color);\n",
       "      border-left-color: var(--fill-color);\n",
       "    }\n",
       "    20% {\n",
       "      border-color: transparent;\n",
       "      border-left-color: var(--fill-color);\n",
       "      border-top-color: var(--fill-color);\n",
       "    }\n",
       "    30% {\n",
       "      border-color: transparent;\n",
       "      border-left-color: var(--fill-color);\n",
       "      border-top-color: var(--fill-color);\n",
       "      border-right-color: var(--fill-color);\n",
       "    }\n",
       "    40% {\n",
       "      border-color: transparent;\n",
       "      border-right-color: var(--fill-color);\n",
       "      border-top-color: var(--fill-color);\n",
       "    }\n",
       "    60% {\n",
       "      border-color: transparent;\n",
       "      border-right-color: var(--fill-color);\n",
       "    }\n",
       "    80% {\n",
       "      border-color: transparent;\n",
       "      border-right-color: var(--fill-color);\n",
       "      border-bottom-color: var(--fill-color);\n",
       "    }\n",
       "    90% {\n",
       "      border-color: transparent;\n",
       "      border-bottom-color: var(--fill-color);\n",
       "    }\n",
       "  }\n",
       "</style>\n",
       "\n",
       "  <script>\n",
       "    async function quickchart(key) {\n",
       "      const quickchartButtonEl =\n",
       "        document.querySelector('#' + key + ' button');\n",
       "      quickchartButtonEl.disabled = true;  // To prevent multiple clicks.\n",
       "      quickchartButtonEl.classList.add('colab-df-spinner');\n",
       "      try {\n",
       "        const charts = await google.colab.kernel.invokeFunction(\n",
       "            'suggestCharts', [key], {});\n",
       "      } catch (error) {\n",
       "        console.error('Error during call to suggestCharts:', error);\n",
       "      }\n",
       "      quickchartButtonEl.classList.remove('colab-df-spinner');\n",
       "      quickchartButtonEl.classList.add('colab-df-quickchart-complete');\n",
       "    }\n",
       "    (() => {\n",
       "      let quickchartButtonEl =\n",
       "        document.querySelector('#df-11714b3c-a36d-4f26-916d-4e20f7c7d4e3 button');\n",
       "      quickchartButtonEl.style.display =\n",
       "        google.colab.kernel.accessAllowed ? 'block' : 'none';\n",
       "    })();\n",
       "  </script>\n",
       "</div>\n",
       "    </div>\n",
       "  </div>\n"
      ],
      "application/vnd.google.colaboratory.intrinsic+json": {
       "type": "dataframe",
       "repr_error": "0"
      }
     },
     "metadata": {},
     "execution_count": 62
    }
   ]
  },
  {
   "cell_type": "markdown",
   "source": [
    "Будем искать вхождения компаний в тексте с помощью алгоритма Ахо Карасик \\\n",
    "https://ru.algorithmica.org/cs/string-structures/aho-corasick/"
   ],
   "metadata": {
    "id": "RYIuJGFLs37-",
    "pycharm": {
     "name": "#%% md\n"
    }
   }
  },
  {
   "cell_type": "code",
   "source": [
    "!pip install -q pyahocorasick"
   ],
   "metadata": {
    "id": "LsA30FiLn8v4",
    "pycharm": {
     "name": "#%%\n"
    }
   },
   "execution_count": 11,
   "outputs": []
  },
  {
   "cell_type": "code",
   "source": [
    "from ahocorasick import Automaton\n",
    "\n",
    "def find_word_indices(texts: list[str], words: list[str], name_to_id: dict):\n",
    "    '''\n",
    "    Возвращает два массива: в первом для каждого сообщения перечислены issuer_id,\n",
    "    синонимы к которым были найдены, во втором перечислены сами синонимы\n",
    "    :param texts: массив сообщений\n",
    "    :param words: массив синонимов, вхождения которых будем искать в сообщениях\n",
    "    :param name_to_id: Словарь, где каждому синониму соответствует некоторый issuer_id\n",
    "    '''\n",
    "    # Инициализируем автомата для Ахо-Корасик\n",
    "    automaton = Automaton()\n",
    "\n",
    "    # Добавляем слова в автомат\n",
    "    for idx, word in enumerate(words):\n",
    "        automaton.add_word(word, idx)\n",
    "\n",
    "    # Строим автомат\n",
    "    automaton.make_automaton()\n",
    "\n",
    "    id_list = []\n",
    "    word_list = []\n",
    "    # Итерируемся по всем сообщениям\n",
    "    for text in texts:\n",
    "        # Мапим issuer_id к синониму, который встретился в сообщении\n",
    "        ids_found_in_text = set()\n",
    "        words_found_in_text = set()\n",
    "        # Находим вхождения словарных слов в сообщения и сохраняем их\n",
    "        for end_index, word_index in automaton.iter(text.lower()):\n",
    "            if name_to_id[words[word_index]] not in ids_found_in_text:\n",
    "                ids_found_in_text.add(name_to_id[words[word_index]])\n",
    "                words_found_in_text.add(words[word_index])\n",
    "\n",
    "        # Список issuer_id найденных в каждом сообщении\n",
    "        id_list.append(list(ids_found_in_text))\n",
    "        # Список самих синонимов, которые были найдены\n",
    "        word_list.append(list(words_found_in_text))\n",
    "\n",
    "    return id_list, word_list\n",
    "\n",
    "# Пример использования\n",
    "texts = ['aboba biba boba', 'baibd aboba vkejr lsrnb', 'wsoure. guierbg hsge gher']\n",
    "\n",
    "words = ['aboba', 'hsge', 'baibd']\n",
    "\n",
    "id_list, word_list = find_word_indices(texts, words, {'aboba': 15, \"hsge\": 2, 'baibd': 7})\n",
    "print(id_list, word_list)"
   ],
   "metadata": {
    "execution": {
     "iopub.status.busy": "2024-04-13T16:53:43.662873Z",
     "iopub.execute_input": "2024-04-13T16:53:43.663364Z",
     "iopub.status.idle": "2024-04-13T16:53:43.675597Z",
     "shell.execute_reply.started": "2024-04-13T16:53:43.663324Z",
     "shell.execute_reply": "2024-04-13T16:53:43.674500Z"
    },
    "trusted": true,
    "colab": {
     "base_uri": "https://localhost:8080/"
    },
    "id": "8o4Mbt13s37_",
    "outputId": "cf763aa5-ce79-433e-8ab4-d9e27d171f54",
    "pycharm": {
     "name": "#%%\n"
    }
   },
   "execution_count": 9,
   "outputs": [
    {
     "output_type": "stream",
     "name": "stdout",
     "text": [
      "[[15], [15, 7], [2]] [['aboba'], ['aboba', 'baibd'], ['hsge']]\n"
     ]
    }
   ]
  },
  {
   "cell_type": "code",
   "source": [
    "import string\n",
    "def process_all_messages(texts: list[str], synonyms: list[list[str]]):\n",
    "    '''\n",
    "    Обёртка над функцией find_word_indices\n",
    "    :param texts: текст сообщения\n",
    "    :param synonyms: синонимы для каждой компании\n",
    "    '''\n",
    "    # По синониму к названию компании находим issuerid\n",
    "    name_to_id = dict()\n",
    "    punct = [' ', ',', ';', '.']\n",
    "    # Заполняем словарь\n",
    "    new_synonyms = np.array([])\n",
    "    for id, company_synonyms in enumerate(synonyms):\n",
    "        issuer_id = issuers.iat[id, 1]\n",
    "        tmp = list()\n",
    "        for word in company_synonyms:\n",
    "            if len(word) < 5:\n",
    "                for symb in punct:\n",
    "                    tmp.append(word + symb)\n",
    "            else:\n",
    "                tmp.append(word)\n",
    "\n",
    "        for word in tmp:\n",
    "            if word not in name_to_id:\n",
    "                name_to_id[word] = issuer_id\n",
    "\n",
    "        new_synonyms = np.append(new_synonyms, np.array(tmp))\n",
    "\n",
    "    return find_word_indices(texts, new_synonyms, name_to_id)"
   ],
   "metadata": {
    "execution": {
     "iopub.status.busy": "2024-04-13T16:53:43.738303Z",
     "iopub.execute_input": "2024-04-13T16:53:43.739098Z",
     "iopub.status.idle": "2024-04-13T16:53:43.745816Z",
     "shell.execute_reply.started": "2024-04-13T16:53:43.739062Z",
     "shell.execute_reply": "2024-04-13T16:53:43.744859Z"
    },
    "trusted": true,
    "id": "2M_5M5DSs38A",
    "pycharm": {
     "name": "#%%\n"
    }
   },
   "execution_count": 92,
   "outputs": []
  },
  {
   "cell_type": "markdown",
   "source": [
    "Почистим входные данные"
   ],
   "metadata": {
    "id": "uYD2GLZS6cBR",
    "pycharm": {
     "name": "#%% md\n"
    }
   }
  },
  {
   "cell_type": "code",
   "source": [
    "def remove_emoji(text):\n",
    "    '''\n",
    "    Удаление смайликов из текста\n",
    "    :param text:  - текст сообщения, которое необходимо обработать\n",
    "    '''\n",
    "    emoji_pattern = re.compile(\"[\"\n",
    "                           u\"\\U0001F600-\\U0001F64F\"  # emoticons\n",
    "                           u\"\\U0001F300-\\U0001F5FF\"  # symbols & pictographs\n",
    "                           u\"\\U0001F680-\\U0001F6FF\"  # transport & map symbols\n",
    "                           u\"\\U0001F1E0-\\U0001F1FF\"  # flags (iOS)\n",
    "                           u\"\\U00002702-\\U000027B0\"\n",
    "                           u\"\\U000024C2-\\U0001F251\"\n",
    "                           \"]+\", flags=re.UNICODE)\n",
    "    return emoji_pattern.sub(r'', text)\n",
    "\n",
    "def preprocessing_text(text):\n",
    "    # Удаление пунктуации\n",
    "    text = text.translate(str.maketrans('', '', PUNCT_TO_REMOVE))\n",
    "\n",
    "    # Удаление стоп слов\n",
    "    text = \" \".join([word for word in str(text).split() if word not in stop_words])\n",
    "\n",
    "    # Удаление смайликов\n",
    "    text = remove_emoji(text)\n",
    "\n",
    "    return text"
   ],
   "metadata": {
    "id": "Nf-DtwbxG6f7",
    "execution": {
     "iopub.status.busy": "2024-04-13T16:53:43.747077Z",
     "iopub.execute_input": "2024-04-13T16:53:43.747383Z",
     "iopub.status.idle": "2024-04-13T16:53:43.760509Z",
     "shell.execute_reply.started": "2024-04-13T16:53:43.747359Z",
     "shell.execute_reply": "2024-04-13T16:53:43.759518Z"
    },
    "trusted": true,
    "pycharm": {
     "name": "#%%\n"
    }
   },
   "execution_count": null,
   "outputs": []
  },
  {
   "cell_type": "code",
   "source": [
    "def preprocessing_dataset(df):\n",
    "    #df[\"preprocessed_MessageText\"] = df[\"MessageText\"].apply(lambda text: preprocessing_text(text))\n",
    "    df = df.dropna()\n",
    "    df[\"CompanyId\"], df[\"CompanyName\"] = process_all_messages(df[\"MessageText\"], synonyms)\n",
    "    df = df.explode([\"CompanyId\", \"CompanyName\"])\n",
    "    return df"
   ],
   "metadata": {
    "id": "lrRH-oy4RHDO",
    "execution": {
     "iopub.status.busy": "2024-04-13T16:58:42.060772Z",
     "iopub.execute_input": "2024-04-13T16:58:42.061254Z",
     "iopub.status.idle": "2024-04-13T16:58:42.067818Z",
     "shell.execute_reply.started": "2024-04-13T16:58:42.061224Z",
     "shell.execute_reply": "2024-04-13T16:58:42.066858Z"
    },
    "trusted": true,
    "pycharm": {
     "name": "#%%\n"
    }
   },
   "execution_count": 12,
   "outputs": []
  },
  {
   "cell_type": "markdown",
   "source": [
    "В данных есть несколько объектов с нулевым SentimentScore - это выбросы, удалим их из датасета"
   ],
   "metadata": {
    "id": "wU2qpVcQs38B",
    "pycharm": {
     "name": "#%% md\n"
    }
   }
  },
  {
   "cell_type": "code",
   "source": [
    "sentiment = sentiment[sentiment[\"SentimentScore\"] > 0]\n",
    "sentiment[\"SentimentScore\"] -= 1"
   ],
   "metadata": {
    "execution": {
     "iopub.status.busy": "2024-04-13T16:58:49.442335Z",
     "iopub.execute_input": "2024-04-13T16:58:49.443189Z",
     "iopub.status.idle": "2024-04-13T16:58:49.450834Z",
     "shell.execute_reply.started": "2024-04-13T16:58:49.443157Z",
     "shell.execute_reply": "2024-04-13T16:58:49.450026Z"
    },
    "trusted": true,
    "colab": {
     "base_uri": "https://localhost:8080/"
    },
    "id": "5U6FMEsZs38B",
    "outputId": "3ce7aca3-7621-46e9-aa40-56467ce05810",
    "pycharm": {
     "name": "#%%\n"
    }
   },
   "execution_count": 80,
   "outputs": [
    {
     "output_type": "stream",
     "name": "stderr",
     "text": [
      "<ipython-input-80-1e6a29dc3779>:2: SettingWithCopyWarning: \n",
      "A value is trying to be set on a copy of a slice from a DataFrame.\n",
      "Try using .loc[row_indexer,col_indexer] = value instead\n",
      "\n",
      "See the caveats in the documentation: https://pandas.pydata.org/pandas-docs/stable/user_guide/indexing.html#returning-a-view-versus-a-copy\n",
      "  sentiment[\"SentimentScore\"] -= 1\n"
     ]
    }
   ]
  },
  {
   "cell_type": "code",
   "source": [
    "sentiment = preprocessing_dataset(sentiment)"
   ],
   "metadata": {
    "id": "o66IIUKRHusU",
    "execution": {
     "iopub.status.busy": "2024-04-13T16:58:51.494338Z",
     "iopub.execute_input": "2024-04-13T16:58:51.495169Z",
     "iopub.status.idle": "2024-04-13T16:58:52.185265Z",
     "shell.execute_reply.started": "2024-04-13T16:58:51.495139Z",
     "shell.execute_reply": "2024-04-13T16:58:52.184232Z"
    },
    "trusted": true,
    "pycharm": {
     "name": "#%%\n"
    }
   },
   "execution_count": 93,
   "outputs": []
  },
  {
   "cell_type": "code",
   "source": [
    "sentiment.head()"
   ],
   "metadata": {
    "colab": {
     "base_uri": "https://localhost:8080/",
     "height": 487
    },
    "id": "K4kmPQV55Udl",
    "outputId": "4f4dd336-ea19-4622-b42a-41a9bc94dda3",
    "pycharm": {
     "name": "#%%\n"
    }
   },
   "execution_count": 94,
   "outputs": [
    {
     "output_type": "execute_result",
     "data": {
      "text/plain": [
       "   MessageID   ChannelID  issuerid  SentimentScore           DateAdded  \\\n",
       "0     241407  1203560567       153               2 2023-05-12 19:03:20   \n",
       "1      33684  1136626166       230               4 2023-02-03 20:56:29   \n",
       "2      10090  1063908560       118               4 2023-06-02 19:18:37   \n",
       "2      10090  1063908560       118               4 2023-06-02 19:18:37   \n",
       "2      10090  1063908560       118               4 2023-06-02 19:18:37   \n",
       "\n",
       "           DatePosted                                        MessageText  \\\n",
       "0 2023-05-12 19:02:42  ⚠️🇷🇺#SELG #дивиденд  сд Селигдар: дивиденды 20...   \n",
       "1 2023-02-03 16:46:34  Ozon продолжает развивать специализированные ф...   \n",
       "2 2023-06-02 18:50:00  ​Фокусы продолжаются🔥Акции и инвестиции  📈ВТБ ...   \n",
       "2 2023-06-02 18:50:00  ​Фокусы продолжаются🔥Акции и инвестиции  📈ВТБ ...   \n",
       "2 2023-06-02 18:50:00  ​Фокусы продолжаются🔥Акции и инвестиции  📈ВТБ ...   \n",
       "\n",
       "   IsForward CompanyId CompanyName  \n",
       "0      False       153       selg   \n",
       "1      False       230       ozon   \n",
       "2      False       224      лукойл  \n",
       "2      False        99        втб   \n",
       "2      False       103       нмтп   "
      ],
      "text/html": [
       "\n",
       "  <div id=\"df-f2eb5883-1a58-4c6d-905b-dd4e72d3b767\" class=\"colab-df-container\">\n",
       "    <div>\n",
       "<style scoped>\n",
       "    .dataframe tbody tr th:only-of-type {\n",
       "        vertical-align: middle;\n",
       "    }\n",
       "\n",
       "    .dataframe tbody tr th {\n",
       "        vertical-align: top;\n",
       "    }\n",
       "\n",
       "    .dataframe thead th {\n",
       "        text-align: right;\n",
       "    }\n",
       "</style>\n",
       "<table border=\"1\" class=\"dataframe\">\n",
       "  <thead>\n",
       "    <tr style=\"text-align: right;\">\n",
       "      <th></th>\n",
       "      <th>MessageID</th>\n",
       "      <th>ChannelID</th>\n",
       "      <th>issuerid</th>\n",
       "      <th>SentimentScore</th>\n",
       "      <th>DateAdded</th>\n",
       "      <th>DatePosted</th>\n",
       "      <th>MessageText</th>\n",
       "      <th>IsForward</th>\n",
       "      <th>CompanyId</th>\n",
       "      <th>CompanyName</th>\n",
       "    </tr>\n",
       "  </thead>\n",
       "  <tbody>\n",
       "    <tr>\n",
       "      <th>0</th>\n",
       "      <td>241407</td>\n",
       "      <td>1203560567</td>\n",
       "      <td>153</td>\n",
       "      <td>2</td>\n",
       "      <td>2023-05-12 19:03:20</td>\n",
       "      <td>2023-05-12 19:02:42</td>\n",
       "      <td>⚠️🇷🇺#SELG #дивиденд  сд Селигдар: дивиденды 20...</td>\n",
       "      <td>False</td>\n",
       "      <td>153</td>\n",
       "      <td>selg</td>\n",
       "    </tr>\n",
       "    <tr>\n",
       "      <th>1</th>\n",
       "      <td>33684</td>\n",
       "      <td>1136626166</td>\n",
       "      <td>230</td>\n",
       "      <td>4</td>\n",
       "      <td>2023-02-03 20:56:29</td>\n",
       "      <td>2023-02-03 16:46:34</td>\n",
       "      <td>Ozon продолжает развивать специализированные ф...</td>\n",
       "      <td>False</td>\n",
       "      <td>230</td>\n",
       "      <td>ozon</td>\n",
       "    </tr>\n",
       "    <tr>\n",
       "      <th>2</th>\n",
       "      <td>10090</td>\n",
       "      <td>1063908560</td>\n",
       "      <td>118</td>\n",
       "      <td>4</td>\n",
       "      <td>2023-06-02 19:18:37</td>\n",
       "      <td>2023-06-02 18:50:00</td>\n",
       "      <td>​Фокусы продолжаются🔥Акции и инвестиции  📈ВТБ ...</td>\n",
       "      <td>False</td>\n",
       "      <td>224</td>\n",
       "      <td>лукойл</td>\n",
       "    </tr>\n",
       "    <tr>\n",
       "      <th>2</th>\n",
       "      <td>10090</td>\n",
       "      <td>1063908560</td>\n",
       "      <td>118</td>\n",
       "      <td>4</td>\n",
       "      <td>2023-06-02 19:18:37</td>\n",
       "      <td>2023-06-02 18:50:00</td>\n",
       "      <td>​Фокусы продолжаются🔥Акции и инвестиции  📈ВТБ ...</td>\n",
       "      <td>False</td>\n",
       "      <td>99</td>\n",
       "      <td>втб</td>\n",
       "    </tr>\n",
       "    <tr>\n",
       "      <th>2</th>\n",
       "      <td>10090</td>\n",
       "      <td>1063908560</td>\n",
       "      <td>118</td>\n",
       "      <td>4</td>\n",
       "      <td>2023-06-02 19:18:37</td>\n",
       "      <td>2023-06-02 18:50:00</td>\n",
       "      <td>​Фокусы продолжаются🔥Акции и инвестиции  📈ВТБ ...</td>\n",
       "      <td>False</td>\n",
       "      <td>103</td>\n",
       "      <td>нмтп</td>\n",
       "    </tr>\n",
       "  </tbody>\n",
       "</table>\n",
       "</div>\n",
       "    <div class=\"colab-df-buttons\">\n",
       "\n",
       "  <div class=\"colab-df-container\">\n",
       "    <button class=\"colab-df-convert\" onclick=\"convertToInteractive('df-f2eb5883-1a58-4c6d-905b-dd4e72d3b767')\"\n",
       "            title=\"Convert this dataframe to an interactive table.\"\n",
       "            style=\"display:none;\">\n",
       "\n",
       "  <svg xmlns=\"http://www.w3.org/2000/svg\" height=\"24px\" viewBox=\"0 -960 960 960\">\n",
       "    <path d=\"M120-120v-720h720v720H120Zm60-500h600v-160H180v160Zm220 220h160v-160H400v160Zm0 220h160v-160H400v160ZM180-400h160v-160H180v160Zm440 0h160v-160H620v160ZM180-180h160v-160H180v160Zm440 0h160v-160H620v160Z\"/>\n",
       "  </svg>\n",
       "    </button>\n",
       "\n",
       "  <style>\n",
       "    .colab-df-container {\n",
       "      display:flex;\n",
       "      gap: 12px;\n",
       "    }\n",
       "\n",
       "    .colab-df-convert {\n",
       "      background-color: #E8F0FE;\n",
       "      border: none;\n",
       "      border-radius: 50%;\n",
       "      cursor: pointer;\n",
       "      display: none;\n",
       "      fill: #1967D2;\n",
       "      height: 32px;\n",
       "      padding: 0 0 0 0;\n",
       "      width: 32px;\n",
       "    }\n",
       "\n",
       "    .colab-df-convert:hover {\n",
       "      background-color: #E2EBFA;\n",
       "      box-shadow: 0px 1px 2px rgba(60, 64, 67, 0.3), 0px 1px 3px 1px rgba(60, 64, 67, 0.15);\n",
       "      fill: #174EA6;\n",
       "    }\n",
       "\n",
       "    .colab-df-buttons div {\n",
       "      margin-bottom: 4px;\n",
       "    }\n",
       "\n",
       "    [theme=dark] .colab-df-convert {\n",
       "      background-color: #3B4455;\n",
       "      fill: #D2E3FC;\n",
       "    }\n",
       "\n",
       "    [theme=dark] .colab-df-convert:hover {\n",
       "      background-color: #434B5C;\n",
       "      box-shadow: 0px 1px 3px 1px rgba(0, 0, 0, 0.15);\n",
       "      filter: drop-shadow(0px 1px 2px rgba(0, 0, 0, 0.3));\n",
       "      fill: #FFFFFF;\n",
       "    }\n",
       "  </style>\n",
       "\n",
       "    <script>\n",
       "      const buttonEl =\n",
       "        document.querySelector('#df-f2eb5883-1a58-4c6d-905b-dd4e72d3b767 button.colab-df-convert');\n",
       "      buttonEl.style.display =\n",
       "        google.colab.kernel.accessAllowed ? 'block' : 'none';\n",
       "\n",
       "      async function convertToInteractive(key) {\n",
       "        const element = document.querySelector('#df-f2eb5883-1a58-4c6d-905b-dd4e72d3b767');\n",
       "        const dataTable =\n",
       "          await google.colab.kernel.invokeFunction('convertToInteractive',\n",
       "                                                    [key], {});\n",
       "        if (!dataTable) return;\n",
       "\n",
       "        const docLinkHtml = 'Like what you see? Visit the ' +\n",
       "          '<a target=\"_blank\" href=https://colab.research.google.com/notebooks/data_table.ipynb>data table notebook</a>'\n",
       "          + ' to learn more about interactive tables.';\n",
       "        element.innerHTML = '';\n",
       "        dataTable['output_type'] = 'display_data';\n",
       "        await google.colab.output.renderOutput(dataTable, element);\n",
       "        const docLink = document.createElement('div');\n",
       "        docLink.innerHTML = docLinkHtml;\n",
       "        element.appendChild(docLink);\n",
       "      }\n",
       "    </script>\n",
       "  </div>\n",
       "\n",
       "\n",
       "<div id=\"df-2476e9a4-7c29-423f-b808-ed76e9d16e50\">\n",
       "  <button class=\"colab-df-quickchart\" onclick=\"quickchart('df-2476e9a4-7c29-423f-b808-ed76e9d16e50')\"\n",
       "            title=\"Suggest charts\"\n",
       "            style=\"display:none;\">\n",
       "\n",
       "<svg xmlns=\"http://www.w3.org/2000/svg\" height=\"24px\"viewBox=\"0 0 24 24\"\n",
       "     width=\"24px\">\n",
       "    <g>\n",
       "        <path d=\"M19 3H5c-1.1 0-2 .9-2 2v14c0 1.1.9 2 2 2h14c1.1 0 2-.9 2-2V5c0-1.1-.9-2-2-2zM9 17H7v-7h2v7zm4 0h-2V7h2v10zm4 0h-2v-4h2v4z\"/>\n",
       "    </g>\n",
       "</svg>\n",
       "  </button>\n",
       "\n",
       "<style>\n",
       "  .colab-df-quickchart {\n",
       "      --bg-color: #E8F0FE;\n",
       "      --fill-color: #1967D2;\n",
       "      --hover-bg-color: #E2EBFA;\n",
       "      --hover-fill-color: #174EA6;\n",
       "      --disabled-fill-color: #AAA;\n",
       "      --disabled-bg-color: #DDD;\n",
       "  }\n",
       "\n",
       "  [theme=dark] .colab-df-quickchart {\n",
       "      --bg-color: #3B4455;\n",
       "      --fill-color: #D2E3FC;\n",
       "      --hover-bg-color: #434B5C;\n",
       "      --hover-fill-color: #FFFFFF;\n",
       "      --disabled-bg-color: #3B4455;\n",
       "      --disabled-fill-color: #666;\n",
       "  }\n",
       "\n",
       "  .colab-df-quickchart {\n",
       "    background-color: var(--bg-color);\n",
       "    border: none;\n",
       "    border-radius: 50%;\n",
       "    cursor: pointer;\n",
       "    display: none;\n",
       "    fill: var(--fill-color);\n",
       "    height: 32px;\n",
       "    padding: 0;\n",
       "    width: 32px;\n",
       "  }\n",
       "\n",
       "  .colab-df-quickchart:hover {\n",
       "    background-color: var(--hover-bg-color);\n",
       "    box-shadow: 0 1px 2px rgba(60, 64, 67, 0.3), 0 1px 3px 1px rgba(60, 64, 67, 0.15);\n",
       "    fill: var(--button-hover-fill-color);\n",
       "  }\n",
       "\n",
       "  .colab-df-quickchart-complete:disabled,\n",
       "  .colab-df-quickchart-complete:disabled:hover {\n",
       "    background-color: var(--disabled-bg-color);\n",
       "    fill: var(--disabled-fill-color);\n",
       "    box-shadow: none;\n",
       "  }\n",
       "\n",
       "  .colab-df-spinner {\n",
       "    border: 2px solid var(--fill-color);\n",
       "    border-color: transparent;\n",
       "    border-bottom-color: var(--fill-color);\n",
       "    animation:\n",
       "      spin 1s steps(1) infinite;\n",
       "  }\n",
       "\n",
       "  @keyframes spin {\n",
       "    0% {\n",
       "      border-color: transparent;\n",
       "      border-bottom-color: var(--fill-color);\n",
       "      border-left-color: var(--fill-color);\n",
       "    }\n",
       "    20% {\n",
       "      border-color: transparent;\n",
       "      border-left-color: var(--fill-color);\n",
       "      border-top-color: var(--fill-color);\n",
       "    }\n",
       "    30% {\n",
       "      border-color: transparent;\n",
       "      border-left-color: var(--fill-color);\n",
       "      border-top-color: var(--fill-color);\n",
       "      border-right-color: var(--fill-color);\n",
       "    }\n",
       "    40% {\n",
       "      border-color: transparent;\n",
       "      border-right-color: var(--fill-color);\n",
       "      border-top-color: var(--fill-color);\n",
       "    }\n",
       "    60% {\n",
       "      border-color: transparent;\n",
       "      border-right-color: var(--fill-color);\n",
       "    }\n",
       "    80% {\n",
       "      border-color: transparent;\n",
       "      border-right-color: var(--fill-color);\n",
       "      border-bottom-color: var(--fill-color);\n",
       "    }\n",
       "    90% {\n",
       "      border-color: transparent;\n",
       "      border-bottom-color: var(--fill-color);\n",
       "    }\n",
       "  }\n",
       "</style>\n",
       "\n",
       "  <script>\n",
       "    async function quickchart(key) {\n",
       "      const quickchartButtonEl =\n",
       "        document.querySelector('#' + key + ' button');\n",
       "      quickchartButtonEl.disabled = true;  // To prevent multiple clicks.\n",
       "      quickchartButtonEl.classList.add('colab-df-spinner');\n",
       "      try {\n",
       "        const charts = await google.colab.kernel.invokeFunction(\n",
       "            'suggestCharts', [key], {});\n",
       "      } catch (error) {\n",
       "        console.error('Error during call to suggestCharts:', error);\n",
       "      }\n",
       "      quickchartButtonEl.classList.remove('colab-df-spinner');\n",
       "      quickchartButtonEl.classList.add('colab-df-quickchart-complete');\n",
       "    }\n",
       "    (() => {\n",
       "      let quickchartButtonEl =\n",
       "        document.querySelector('#df-2476e9a4-7c29-423f-b808-ed76e9d16e50 button');\n",
       "      quickchartButtonEl.style.display =\n",
       "        google.colab.kernel.accessAllowed ? 'block' : 'none';\n",
       "    })();\n",
       "  </script>\n",
       "</div>\n",
       "    </div>\n",
       "  </div>\n"
      ],
      "application/vnd.google.colaboratory.intrinsic+json": {
       "type": "dataframe",
       "variable_name": "sentiment",
       "summary": "{\n  \"name\": \"sentiment\",\n  \"rows\": 40024,\n  \"fields\": [\n    {\n      \"column\": \"MessageID\",\n      \"properties\": {\n        \"dtype\": \"number\",\n        \"std\": 92816,\n        \"min\": 525,\n        \"max\": 278484,\n        \"num_unique_values\": 6889,\n        \"samples\": [\n          7435,\n          254720,\n          17511\n        ],\n        \"semantic_type\": \"\",\n        \"description\": \"\"\n      }\n    },\n    {\n      \"column\": \"ChannelID\",\n      \"properties\": {\n        \"dtype\": \"number\",\n        \"std\": 136036751,\n        \"min\": 1001029560,\n        \"max\": 1565800335,\n        \"num_unique_values\": 38,\n        \"samples\": [\n          1228933667,\n          1564218803,\n          1239405989\n        ],\n        \"semantic_type\": \"\",\n        \"description\": \"\"\n      }\n    },\n    {\n      \"column\": \"issuerid\",\n      \"properties\": {\n        \"dtype\": \"number\",\n        \"std\": 74,\n        \"min\": 4,\n        \"max\": 274,\n        \"num_unique_values\": 108,\n        \"samples\": [\n          265,\n          227,\n          89\n        ],\n        \"semantic_type\": \"\",\n        \"description\": \"\"\n      }\n    },\n    {\n      \"column\": \"SentimentScore\",\n      \"properties\": {\n        \"dtype\": \"number\",\n        \"std\": 0,\n        \"min\": 0,\n        \"max\": 5,\n        \"num_unique_values\": 6,\n        \"samples\": [\n          2,\n          4,\n          1\n        ],\n        \"semantic_type\": \"\",\n        \"description\": \"\"\n      }\n    },\n    {\n      \"column\": \"DateAdded\",\n      \"properties\": {\n        \"dtype\": \"date\",\n        \"min\": \"2022-12-26 14:37:23\",\n        \"max\": \"2024-03-18 10:22:35\",\n        \"num_unique_values\": 4189,\n        \"samples\": [\n          \"2023-03-06 14:55:30\",\n          \"2023-09-20 19:14:07\",\n          \"2023-07-27 01:26:06\"\n        ],\n        \"semantic_type\": \"\",\n        \"description\": \"\"\n      }\n    },\n    {\n      \"column\": \"DatePosted\",\n      \"properties\": {\n        \"dtype\": \"date\",\n        \"min\": \"2022-12-26 13:53:40\",\n        \"max\": \"2024-03-18 08:08:11\",\n        \"num_unique_values\": 7244,\n        \"samples\": [\n          \"2023-03-22 16:24:42\",\n          \"2023-07-31 14:24:06\",\n          \"2023-04-27 17:04:46\"\n        ],\n        \"semantic_type\": \"\",\n        \"description\": \"\"\n      }\n    },\n    {\n      \"column\": \"MessageText\",\n      \"properties\": {\n        \"dtype\": \"category\",\n        \"num_unique_values\": 7188,\n        \"samples\": [\n          \"\\u041a\\u043e\\u0440\\u0440\\u0435\\u043a\\u0446\\u0438\\u044f \\u043d\\u0430 \\u0440\\u044b\\u043d\\u043a\\u0435. \\u0413\\u0434\\u0435 \\u043b\\u043e\\u0432\\u0438\\u0442\\u044c \\u0438\\u043d\\u0434\\u0435\\u043a\\u0441 \\u041c\\u043e\\u0441\\u0411\\u0438\\u0440\\u0436\\u0438  \\u0420\\u043e\\u0441\\u0441\\u0438\\u0439\\u0441\\u043a\\u0438\\u0439 \\u0440\\u044b\\u043d\\u043e\\u043a \\u0432 \\u0441\\u0435\\u043d\\u0442\\u044f\\u0431\\u0440\\u0435 \\u043f\\u0435\\u0440\\u0435\\u0441\\u0442\\u0430\\u043b \\u0440\\u0430\\u0441\\u0442\\u0438 \\u043f\\u043e\\u0441\\u043b\\u0435 8 \\u043c\\u0435\\u0441\\u044f\\u0446\\u0435\\u0432 \\u0431\\u0435\\u0441\\u043f\\u0440\\u0435\\u0440\\u044b\\u0432\\u043d\\u043e\\u0433\\u043e \\u043f\\u043e\\u0434\\u044a\\u0435\\u043c\\u0430. \\u0418\\u043d\\u0432\\u0435\\u0441\\u0442\\u043e\\u0440\\u044b \\u0441\\u0442\\u0430\\u043b\\u0438 \\u0441\\u043e\\u043a\\u0440\\u0430\\u0449\\u0430\\u0442\\u044c \\u043f\\u043e\\u0437\\u0438\\u0446\\u0438\\u0438 \\u0432 \\u0430\\u043a\\u0446\\u0438\\u044f\\u0445 \\u2014 \\u0438\\u043d\\u0434\\u0435\\u043a\\u0441 \\u041c\\u043e\\u0441\\u0411\\u0438\\u0440\\u0436\\u0438 \\u043f\\u043e\\u0448\\u0435\\u043b \\u0432\\u043d\\u0438\\u0437, \\u043f\\u043e\\u0442\\u0435\\u0440\\u044f\\u0432 \\u043e\\u0442 \\u043c\\u0430\\u043a\\u0441\\u0438\\u043c\\u0443\\u043c\\u043e\\u0432 \\u0443\\u0436\\u0435 6%. \\u0414\\u043e \\u043a\\u0430\\u043a\\u0438\\u0445 \\u0443\\u0440\\u043e\\u0432\\u043d\\u0435\\u0439 \\u043c\\u043e\\u0436\\u0435\\u0442 \\u043f\\u0440\\u043e\\u0434\\u043e\\u043b\\u0436\\u0438\\u0442\\u044c\\u0441\\u044f \\u0441\\u043d\\u0438\\u0436\\u0435\\u043d\\u0438\\u0435 \\u0438 \\u043a\\u043e\\u0433\\u0434\\u0430 \\u0441\\u0442\\u043e\\u0438\\u0442 \\u043f\\u043e\\u043a\\u0443\\u043f\\u0430\\u0442\\u044c \\u0430\\u043a\\u0446\\u0438\\u0438.  \\u0420\\u044b\\u043d\\u043e\\u043a \\u0443\\u0434\\u0435\\u0440\\u0436\\u0430\\u043b\\u0441\\u044f \\u043d\\u0430 \\u043f\\u043e\\u0434\\u0434\\u0435\\u0440\\u0436\\u043a\\u0435  \\u0418\\u043d\\u0434\\u0435\\u043a\\u0441 \\u0432\\u043f\\u043b\\u043e\\u0442\\u043d\\u0443\\u044e \\u043f\\u043e\\u0434\\u043e\\u0448\\u0435\\u043b \\u043a \\u0443\\u0440\\u043e\\u0432\\u043d\\u044e \\u043f\\u0440\\u0435\\u0434\\u044b\\u0434\\u0443\\u0449\\u0435\\u0433\\u043e \\u043b\\u043e\\u043a\\u0430\\u043b\\u044c\\u043d\\u043e\\u0433\\u043e \\u043c\\u0438\\u043d\\u0438\\u043c\\u0443\\u043c\\u0430 \\u043d\\u0430 3015 \\u043f. \\u041f\\u043e\\u0434\\u0434\\u0435\\u0440\\u0436\\u043a\\u0430 \\u0432\\u044b\\u0441\\u0442\\u043e\\u044f\\u043b\\u0430, \\u043d\\u0430\\u0447\\u0430\\u043b\\u0441\\u044f \\u043b\\u043e\\u043a\\u0430\\u043b\\u044c\\u043d\\u044b\\u0439 \\u043e\\u0442\\u0441\\u043a\\u043e\\u043a. \\u0422\\u0430\\u043a\\u0438\\u043c \\u043e\\u0431\\u0440\\u0430\\u0437\\u043e\\u043c, \\u0434\\u0432\\u0438\\u0436\\u0435\\u043d\\u0438\\u0435 \\u0432 \\u0433\\u043e\\u0440\\u0438\\u0437\\u043e\\u043d\\u0442\\u0430\\u043b\\u044c\\u043d\\u043e\\u043c \\u0434\\u0438\\u0430\\u043f\\u0430\\u0437\\u043e\\u043d\\u0435 3015\\u20133290 \\u0441\\u043e\\u0445\\u0440\\u0430\\u043d\\u044f\\u0435\\u0442 \\u0430\\u043a\\u0442\\u0443\\u0430\\u043b\\u044c\\u043d\\u043e\\u0441\\u0442\\u044c, \\u0430 \\u0437\\u043d\\u0430\\u0447\\u0438\\u0442, \\u043f\\u043e\\u044f\\u0432\\u043b\\u044f\\u0435\\u0442\\u0441\\u044f \\u0441\\u0438\\u0433\\u043d\\u0430\\u043b \\u043d\\u0430 \\u043f\\u043e\\u043a\\u0443\\u043f\\u043a\\u0443.  \\u0424\\u0443\\u043d\\u0434\\u0430\\u043c\\u0435\\u043d\\u0442\\u0430\\u043b\\u044c\\u043d\\u043e \\u0441\\u0438\\u043b\\u044c\\u043d\\u044b\\u0435 \\u0430\\u043a\\u0446\\u0438\\u0438 \\u043c\\u043e\\u0436\\u043d\\u043e \\u043e\\u0442\\u043a\\u0443\\u043f\\u0430\\u0442\\u044c \\u0432\\u0431\\u043b\\u0438\\u0437\\u0438 \\u0442\\u0435\\u043a\\u0443\\u0449\\u0438\\u0445 \\u0443\\u0440\\u043e\\u0432\\u043d\\u0435\\u0439. \\u041a \\u0438\\u043d\\u0442\\u0435\\u0440\\u0435\\u0441\\u043d\\u044b\\u043c \\u0430\\u043a\\u0446\\u0438\\u044f\\u043c \\u043e\\u0442\\u043d\\u0435\\u0441\\u0435\\u043c, \\u043f\\u0440\\u0435\\u0436\\u0434\\u0435 \\u0432\\u0441\\u0435\\u0433\\u043e, \\u043d\\u0435\\u0444\\u0442\\u044f\\u043d\\u0438\\u043a\\u043e\\u0432:  \\u2022 \\u041b\\u0423\\u041a\\u041e\\u0419\\u041b (\\u041f\\u043e\\u043a\\u0443\\u043f\\u0430\\u0442\\u044c. \\u0426\\u0435\\u043b\\u044c \\u043d\\u0430 \\u0433\\u043e\\u0434: 7700 \\u0440\\u0443\\u0431. / +18%) \\u2022 \\u0422\\u0430\\u0442\\u043d\\u0435\\u0444\\u0442\\u044c (\\u041f\\u043e\\u043a\\u0443\\u043f\\u0430\\u0442\\u044c. \\u0426\\u0435\\u043b\\u044c \\u043d\\u0430 \\u0433\\u043e\\u0434: 760 \\u0440\\u0443\\u0431. / +21%) \\u2022 \\u0413\\u0430\\u0437\\u043f\\u0440\\u043e\\u043c \\u043d\\u0435\\u0444\\u0442\\u044c (\\u041f\\u043e\\u043a\\u0443\\u043f\\u0430\\u0442\\u044c. \\u0426\\u0435\\u043b\\u044c \\u043d\\u0430 \\u0433\\u043e\\u0434: 740 \\u0440\\u0443\\u0431. / +9%)  \\u0422\\u0430\\u043a\\u0436\\u0435 \\u0441\\u0442\\u043e\\u0438\\u0442 \\u043e\\u0431\\u0440\\u0430\\u0442\\u0438\\u0442\\u044c \\u0432\\u043d\\u0438\\u043c\\u0430\\u043d\\u0438\\u0435 \\u043d\\u0430:  \\u2022 \\u0421\\u0431\\u0435\\u0440\\u0431\\u0430\\u043d\\u043a (\\u041f\\u043e\\u043a\\u0443\\u043f\\u0430\\u0442\\u044c. \\u0426\\u0435\\u043b\\u044c \\u043d\\u0430 \\u0433\\u043e\\u0434: 350 \\u0440\\u0443\\u0431. / +35%) \\u2022 \\u0421\\u0435\\u0432\\u0435\\u0440\\u0441\\u0442\\u0430\\u043b\\u044c (\\u041f\\u043e\\u043a\\u0443\\u043f\\u0430\\u0442\\u044c. \\u0426\\u0435\\u043b\\u044c \\u043d\\u0430 \\u0433\\u043e\\u0434: 1800 \\u0440\\u0443\\u0431. / +39%) \\u2022 \\u041d\\u043e\\u0440\\u043d\\u0438\\u043a\\u0435\\u043b\\u044c (\\u041f\\u043e\\u043a\\u0443\\u043f\\u0430\\u0442\\u044c. \\u0426\\u0435\\u043b\\u044c \\u043d\\u0430 \\u0433\\u043e\\u0434: 24 000 \\u0440\\u0443\\u0431. / +47%)  \\u0427\\u0442\\u043e \\u0434\\u0435\\u043b\\u0430\\u0442\\u044c, \\u0435\\u0441\\u043b\\u0438 \\u0440\\u044b\\u043d\\u043e\\u043a \\u043f\\u0440\\u043e\\u0434\\u043e\\u043b\\u0436\\u0438\\u0442 \\u043f\\u0430\\u0434\\u0430\\u0442\\u044c  \\u041d\\u0435\\u0433\\u0430\\u0442\\u0438\\u0432\\u043d\\u044b\\u0439 \\u0441\\u0446\\u0435\\u043d\\u0430\\u0440\\u0438\\u0439 \\u0441 \\u043f\\u0440\\u043e\\u0431\\u043e\\u0435\\u043c 3015 \\u043f. \\u043f\\u043e\\u043a\\u0430 \\u0432 \\u043f\\u043e\\u043b\\u043d\\u043e\\u0439 \\u043c\\u0435\\u0440\\u0435 \\u043d\\u0435\\u043b\\u044c\\u0437\\u044f \\u0438\\u0441\\u043a\\u043b\\u044e\\u0447\\u0430\\u0442\\u044c. \\u041f\\u043e\\u043a\\u0430 \\u0438\\u043d\\u0434\\u0435\\u043a\\u0441 \\u043d\\u0435 \\u043e\\u0442\\u0440\\u0430\\u0431\\u043e\\u0442\\u0430\\u043b \\u0434\\u0430\\u0436\\u0435 \\u043f\\u0435\\u0440\\u0432\\u044b\\u0439 \\u0443\\u0440\\u043e\\u0432\\u0435\\u043d\\u044c \\u043a\\u043e\\u0440\\u0440\\u0435\\u043a\\u0446\\u0438\\u0438 \\u043f\\u043e \\u0424\\u0438\\u0431\\u043e\\u043d\\u0430\\u0447\\u0447\\u0438 \\u043d\\u0430 23,6%. \\u042f\\u0432\\u043d\\u043e\\u0439 \\u043f\\u0435\\u0440\\u0435\\u043f\\u0440\\u043e\\u0434\\u0430\\u043d\\u043d\\u043e\\u0441\\u0442\\u0438 \\u043f\\u043e RSI \\u0435\\u0449\\u0435 \\u043d\\u0435\\u0442.  \\u0412 \\u0442\\u0430\\u043a\\u043e\\u043c \\u0441\\u043b\\u0443\\u0447\\u0430\\u0435 \\u0441\\u0442\\u043e\\u0438\\u0442 \\u043e\\u0436\\u0438\\u0434\\u0430\\u0442\\u044c \\u0434\\u0430\\u043b\\u044c\\u043d\\u0435\\u0439\\u0448\\u0435\\u0433\\u043e \\u0440\\u0430\\u0437\\u0432\\u0438\\u0442\\u0438\\u044f \\u043e\\u0442\\u043a\\u0430\\u0442\\u0430 \\u0432\\u043f\\u043b\\u043e\\u0442\\u044c \\u0434\\u043e \\u043f\\u0435\\u0440\\u0432\\u043e\\u0439 \\u0437\\u043e\\u043d\\u044b \\u0442\\u043e\\u0440\\u043c\\u043e\\u0436\\u0435\\u043d\\u0438\\u044f \\u2014 2880\\u20132920 \\u043f.  \\u0412 \\u0441\\u043b\\u0443\\u0447\\u0430\\u0435 \\u0437\\u0430\\u043a\\u0440\\u0435\\u043f\\u043b\\u0435\\u043d\\u0438\\u044f \\u043d\\u0438\\u0436\\u0435 3015 \\u043f. \\u043c\\u043e\\u0436\\u043d\\u043e \\u0440\\u0430\\u0441\\u0441\\u043c\\u0430\\u0442\\u0440\\u0438\\u0432\\u0430\\u0442\\u044c \\u043e\\u0442\\u043a\\u0440\\u044b\\u0442\\u0438\\u0435 \\u043a\\u043e\\u0440\\u043e\\u0442\\u043a\\u0438\\u0445 \\u043f\\u043e\\u0437\\u0438\\u0446\\u0438\\u0439 \\u0432 \\u0444\\u0443\\u043d\\u0434\\u0430\\u043c\\u0435\\u043d\\u0442\\u0430\\u043b\\u044c\\u043d\\u043e \\u0441\\u043b\\u0430\\u0431\\u044b\\u0445 \\u0431\\u0443\\u043c\\u0430\\u0433\\u0430\\u0445, \\u043a\\u043e\\u0442\\u043e\\u0440\\u044b\\u043c\\u0438 \\u043c\\u043e\\u0436\\u043d\\u043e \\u0437\\u0430\\u0445\\u0435\\u0434\\u0436\\u0438\\u0440\\u043e\\u0432\\u0430\\u0442\\u044c \\u043e\\u0441\\u043d\\u043e\\u0432\\u043d\\u0443\\u044e \\u0447\\u0430\\u0441\\u0442\\u044c \\u043f\\u043e\\u0440\\u0442\\u0444\\u0435\\u043b\\u044f. \\u0410\\u043a\\u0446\\u0438\\u0438 \\u0438\\u043d\\u0442\\u0435\\u0440\\u0435\\u0441\\u043d\\u044b\\u0435 \\u0434\\u043b\\u044f \\u0448\\u043e\\u0440\\u0442\\u043e\\u0432:  \\u2022 \\u0410\\u044d\\u0440\\u043e\\u0444\\u043b\\u043e\\u0442 (\\u041f\\u0440\\u043e\\u0434\\u0430\\u0432\\u0430\\u0442\\u044c. \\u0426\\u0435\\u043b\\u044c \\u043d\\u0430 \\u0433\\u043e\\u0434: 35 \\u0440\\u0443\\u0431. / -15%) \\u2022 \\u0421\\u0443\\u0440\\u0433\\u0443\\u0442\\u043d\\u0435\\u0444\\u0442\\u0435\\u0433\\u0430\\u0437-\\u0430\\u043e (\\u041f\\u0440\\u043e\\u0434\\u0430\\u0432\\u0430\\u0442\\u044c. \\u0426\\u0435\\u043b\\u044c \\u043d\\u0430 \\u0433\\u043e\\u0434: 28 \\u0440\\u0443\\u0431. / -10%) \\u2022 \\u041b\\u0421\\u0420 (\\u041f\\u0440\\u043e\\u0434\\u0430\\u0432\\u0430\\u0442\\u044c. \\u0426\\u0435\\u043b\\u044c \\u043d\\u0430 \\u0433\\u043e\\u0434: 660 \\u0440\\u0443\\u0431. / -9%)  *\\u041d\\u0435 \\u044f\\u0432\\u043b\\u044f\\u0435\\u0442\\u0441\\u044f \\u0438\\u043d\\u0434\\u0438\\u0432\\u0438\\u0434\\u0443\\u0430\\u043b\\u044c\\u043d\\u043e\\u0439 \\u0438\\u043d\\u0432\\u0435\\u0441\\u0442\\u0438\\u0446\\u0438\\u043e\\u043d\\u043d\\u043e\\u0439 \\u0440\\u0435\\u043a\\u043e\\u043c\\u0435\\u043d\\u0434\\u0430\\u0446\\u0438\\u0435\\u0439\",\n          \"\\u26a0\\ufe0f\\ud83c\\uddf7\\ud83c\\uddfa#AFLT = -5%\",\n          \"\\\"\\ud83c\\uddf7\\ud83c\\uddfa#PHOR   \\\"\\\"\\u0424\\u043e\\u0441\\u0410\\u0433\\u0440\\u043e\\\"\\\" \\u043f\\u043b\\u0430\\u043d\\u0438\\u0440\\u0443\\u0435\\u0442 \\u0440\\u0435\\u0444\\u0438\\u043d\\u0430\\u043d\\u0441\\u0438\\u0440\\u043e\\u0432\\u0430\\u0442\\u044c \\u0432\\u044b\\u043f\\u0443\\u0441\\u043a \\u0435\\u0432\\u0440\\u043e\\u0431\\u043e\\u043d\\u0434\\u043e\\u0432 \\u043d\\u0430 $500 \\u043c\\u043b\\u043d \\u0441 \\u043f\\u043e\\u0433\\u0430\\u0448\\u0435\\u043d\\u0438\\u0435\\u043c \\u0432 \\u0430\\u043f\\u0440\\u0435\\u043b\\u0435 2023 \\u0433\\u043e\\u0434\\u0430, \\u0438\\u0437\\u0443\\u0447\\u0430\\u0435\\u0442 \\u0432\\u0430\\u0440\\u0438\\u0430\\u043d\\u0442\\u044b \\u043d\\u0430 \\u0440\\u043e\\u0441\\u0441\\u0438\\u0439\\u0441\\u043a\\u043e\\u043c \\u0440\\u044b\\u043d\\u043a\\u0435\\\"\"\n        ],\n        \"semantic_type\": \"\",\n        \"description\": \"\"\n      }\n    },\n    {\n      \"column\": \"IsForward\",\n      \"properties\": {\n        \"dtype\": \"boolean\",\n        \"num_unique_values\": 2,\n        \"samples\": [\n          true,\n          false\n        ],\n        \"semantic_type\": \"\",\n        \"description\": \"\"\n      }\n    },\n    {\n      \"column\": \"CompanyId\",\n      \"properties\": {\n        \"dtype\": \"date\",\n        \"min\": \"1\",\n        \"max\": \"274\",\n        \"num_unique_values\": 210,\n        \"samples\": [\n          \"254\",\n          \"144\"\n        ],\n        \"semantic_type\": \"\",\n        \"description\": \"\"\n      }\n    },\n    {\n      \"column\": \"CompanyName\",\n      \"properties\": {\n        \"dtype\": \"category\",\n        \"num_unique_values\": 552,\n        \"samples\": [\n          \"bisv \",\n          \"\\u043a\\u0443\\u0439\\u0431\\u044b\\u0448\\u0435\\u0432\\u0430\\u0437\\u043e\\u0442\"\n        ],\n        \"semantic_type\": \"\",\n        \"description\": \"\"\n      }\n    }\n  ]\n}"
      }
     },
     "metadata": {},
     "execution_count": 94
    }
   ]
  },
  {
   "cell_type": "code",
   "source": [
    "grouped = sentiment[[\"issuerid\", \"CompanyId\", \"MessageText\"]].groupby(by=\"MessageText\").agg(lambda x: set(x))"
   ],
   "metadata": {
    "id": "J2uFBT665Iza",
    "pycharm": {
     "name": "#%%\n"
    }
   },
   "execution_count": 95,
   "outputs": []
  },
  {
   "cell_type": "code",
   "source": [
    "def step1_accuracy():\n",
    "    successful = 0\n",
    "    for idx, row in sentiment.iterrows():\n",
    "        if row[\"issuerid\"] == row[\"CompanyId\"]:\n",
    "            successful += 1\n",
    "    print(successful / sentiment.index.nunique())"
   ],
   "metadata": {
    "execution": {
     "iopub.status.busy": "2024-04-13T16:59:13.984725Z",
     "iopub.execute_input": "2024-04-13T16:59:13.985447Z",
     "iopub.status.idle": "2024-04-13T16:59:13.990641Z",
     "shell.execute_reply.started": "2024-04-13T16:59:13.985415Z",
     "shell.execute_reply": "2024-04-13T16:59:13.989633Z"
    },
    "trusted": true,
    "id": "gAEx5Tgys38B",
    "pycharm": {
     "name": "#%%\n"
    }
   },
   "execution_count": 85,
   "outputs": []
  },
  {
   "cell_type": "code",
   "source": [
    "step1_accuracy()"
   ],
   "metadata": {
    "execution": {
     "iopub.status.busy": "2024-04-13T16:59:15.866531Z",
     "iopub.execute_input": "2024-04-13T16:59:15.867226Z",
     "iopub.status.idle": "2024-04-13T16:59:18.339443Z",
     "shell.execute_reply.started": "2024-04-13T16:59:15.867190Z",
     "shell.execute_reply": "2024-04-13T16:59:18.338206Z"
    },
    "trusted": true,
    "colab": {
     "base_uri": "https://localhost:8080/"
    },
    "id": "cpzvH8mQs38C",
    "outputId": "4c51e745-caae-4d2b-ee84-ef5b1568c4a7",
    "pycharm": {
     "name": "#%%\n"
    }
   },
   "execution_count": 97,
   "outputs": [
    {
     "output_type": "stream",
     "name": "stdout",
     "text": [
      "0.9228119280869846\n"
     ]
    }
   ]
  },
  {
   "cell_type": "code",
   "source": [
    "from sklearn.metrics import f1_score"
   ],
   "metadata": {
    "id": "HBS2x4mGqJJX",
    "pycharm": {
     "name": "#%%\n"
    }
   },
   "execution_count": 21,
   "outputs": []
  },
  {
   "cell_type": "code",
   "source": [
    "def f1score(y_true, y_pred, classes):\n",
    "    sum = 0\n",
    "    len = classes.shape[0]\n",
    "    for cls in classes:\n",
    "        mask_true = np.zeros(y_pred.shape[0])\n",
    "        mask_pred = np.zeros(y_pred.shape[0])\n",
    "        for i, pred in enumerate(y_pred):\n",
    "            if cls in pred:\n",
    "                mask_pred[i] = 1\n",
    "\n",
    "        for i, true in enumerate(y_true):\n",
    "            if cls in true:\n",
    "                mask_true[i] = 1\n",
    "\n",
    "        if np.sum(mask_true) == 0 and np.sum(mask_pred) != 0:\n",
    "            len -= 1\n",
    "        sum += f1_score(mask_pred, mask_true, zero_division=1.0)\n",
    "    return sum / len"
   ],
   "metadata": {
    "id": "Jud5fNe2ooEW",
    "pycharm": {
     "name": "#%%\n"
    }
   },
   "execution_count": 75,
   "outputs": []
  },
  {
   "cell_type": "code",
   "source": [
    "f1score(grouped['issuerid'].values, grouped['CompanyId'].values, issuers[\"issuerid\"].values)"
   ],
   "metadata": {
    "colab": {
     "base_uri": "https://localhost:8080/"
    },
    "id": "K9n7GYwwrrVN",
    "outputId": "8d99a92d-5978-4ff4-d7ba-a2dfe96275c4",
    "pycharm": {
     "name": "#%%\n"
    }
   },
   "execution_count": 98,
   "outputs": [
    {
     "output_type": "execute_result",
     "data": {
      "text/plain": [
       "0.6802990123134848"
      ]
     },
     "metadata": {},
     "execution_count": 98
    }
   ]
  },
  {
   "cell_type": "markdown",
   "source": [
    "## STEP 2: sentiment analisys"
   ],
   "metadata": {
    "id": "QksxSFTDs38C",
    "pycharm": {
     "name": "#%% md\n"
    }
   }
  },
  {
   "cell_type": "code",
   "source": [
    "from transformers import AutoTokenizer, AutoModelForSequenceClassification, AutoModel, TrainingArguments, Trainer, pipeline\n",
    "from torch.utils.data import DataLoader, TensorDataset\n",
    "from datasets import load_dataset\n",
    "from datasets import Dataset\n",
    "import torch.nn.functional as F\n",
    "from torch import nn\n",
    "import torch\n",
    "\n",
    "device = torch.device(\"cuda\" if torch.cuda.is_available() else \"cpu\")\n",
    "print(\"Device:\", device)"
   ],
   "metadata": {
    "execution": {
     "iopub.status.busy": "2024-04-13T16:09:24.632634Z",
     "iopub.execute_input": "2024-04-13T16:09:24.633020Z",
     "iopub.status.idle": "2024-04-13T16:09:43.748246Z",
     "shell.execute_reply.started": "2024-04-13T16:09:24.632981Z",
     "shell.execute_reply": "2024-04-13T16:09:43.747258Z"
    },
    "trusted": true,
    "id": "dK3TTJUzs38C",
    "outputId": "4b135fd4-a0da-4ee1-9b6e-83668689310e",
    "pycharm": {
     "name": "#%%\n"
    }
   },
   "execution_count": null,
   "outputs": [
    {
     "name": "stderr",
     "text": "2024-04-13 16:09:34.905837: E external/local_xla/xla/stream_executor/cuda/cuda_dnn.cc:9261] Unable to register cuDNN factory: Attempting to register factory for plugin cuDNN when one has already been registered\n2024-04-13 16:09:34.905941: E external/local_xla/xla/stream_executor/cuda/cuda_fft.cc:607] Unable to register cuFFT factory: Attempting to register factory for plugin cuFFT when one has already been registered\n2024-04-13 16:09:35.026163: E external/local_xla/xla/stream_executor/cuda/cuda_blas.cc:1515] Unable to register cuBLAS factory: Attempting to register factory for plugin cuBLAS when one has already been registered\n",
     "output_type": "stream"
    },
    {
     "name": "stdout",
     "text": "Device: cuda\n",
     "output_type": "stream"
    }
   ]
  },
  {
   "cell_type": "code",
   "source": [
    "df_step2 = sentiment[sentiment[\"issuerid\"] == sentiment[\"CompanyId\"]]"
   ],
   "metadata": {
    "execution": {
     "iopub.status.busy": "2024-04-13T17:00:42.428069Z",
     "iopub.execute_input": "2024-04-13T17:00:42.428443Z",
     "iopub.status.idle": "2024-04-13T17:00:42.438302Z",
     "shell.execute_reply.started": "2024-04-13T17:00:42.428415Z",
     "shell.execute_reply": "2024-04-13T17:00:42.437428Z"
    },
    "trusted": true,
    "id": "4epSpnThs38C",
    "pycharm": {
     "name": "#%%\n"
    }
   },
   "execution_count": null,
   "outputs": []
  },
  {
   "cell_type": "code",
   "source": [
    "data = {\n",
    "    'text': df_step2[\"MessageText\"],\n",
    "    'aspect': df_step2[\"CompanyName\"],\n",
    "    'label': df_step2[\"SentimentScore\"]\n",
    "}\n",
    "\n",
    "df = pd.DataFrame(data)\n",
    "df = df.reset_index()\n",
    "df = df.drop([\"index\"], axis=1)\n",
    "df.head()"
   ],
   "metadata": {
    "execution": {
     "iopub.status.busy": "2024-04-13T17:02:17.081924Z",
     "iopub.execute_input": "2024-04-13T17:02:17.082314Z",
     "iopub.status.idle": "2024-04-13T17:02:17.097164Z",
     "shell.execute_reply.started": "2024-04-13T17:02:17.082285Z",
     "shell.execute_reply": "2024-04-13T17:02:17.096309Z"
    },
    "trusted": true,
    "id": "_9Kq-ouIs38C",
    "outputId": "43034ce3-d0ac-4c48-d664-b96e5af4fa46",
    "pycharm": {
     "name": "#%%\n"
    }
   },
   "execution_count": null,
   "outputs": [
    {
     "execution_count": 107,
     "output_type": "execute_result",
     "data": {
      "text/plain": "                                                text          aspect  label\n0  ⚠️🇷🇺#SELG #дивиденд  сд Селигдар: дивиденды 20...            selg      1\n1  ​Фокусы продолжаются🔥Акции и инвестиции  📈ВТБ ...  группа позитив      3\n2  ​Фокусы продолжаются🔥Акции и инвестиции  📈ВТБ ...            двмп      4\n3  ​​Windfall Tax — налог на сверхприбыль. Какие ...         газпром      1\n4  ​​Windfall Tax — налог на сверхприбыль. Какие ...      северсталь      1",
      "text/html": "<div>\n<style scoped>\n    .dataframe tbody tr th:only-of-type {\n        vertical-align: middle;\n    }\n\n    .dataframe tbody tr th {\n        vertical-align: top;\n    }\n\n    .dataframe thead th {\n        text-align: right;\n    }\n</style>\n<table border=\"1\" class=\"dataframe\">\n  <thead>\n    <tr style=\"text-align: right;\">\n      <th></th>\n      <th>text</th>\n      <th>aspect</th>\n      <th>label</th>\n    </tr>\n  </thead>\n  <tbody>\n    <tr>\n      <th>0</th>\n      <td>⚠️🇷🇺#SELG #дивиденд  сд Селигдар: дивиденды 20...</td>\n      <td>selg</td>\n      <td>1</td>\n    </tr>\n    <tr>\n      <th>1</th>\n      <td>​Фокусы продолжаются🔥Акции и инвестиции  📈ВТБ ...</td>\n      <td>группа позитив</td>\n      <td>3</td>\n    </tr>\n    <tr>\n      <th>2</th>\n      <td>​Фокусы продолжаются🔥Акции и инвестиции  📈ВТБ ...</td>\n      <td>двмп</td>\n      <td>4</td>\n    </tr>\n    <tr>\n      <th>3</th>\n      <td>​​Windfall Tax — налог на сверхприбыль. Какие ...</td>\n      <td>газпром</td>\n      <td>1</td>\n    </tr>\n    <tr>\n      <th>4</th>\n      <td>​​Windfall Tax — налог на сверхприбыль. Какие ...</td>\n      <td>северсталь</td>\n      <td>1</td>\n    </tr>\n  </tbody>\n</table>\n</div>"
     },
     "metadata": {}
    }
   ]
  },
  {
   "cell_type": "code",
   "source": [
    "dataset = Dataset.from_pandas(df,  preserve_index=False)\n",
    "dataset = dataset.train_test_split(test_size=0.1)\n",
    "dataset"
   ],
   "metadata": {
    "execution": {
     "iopub.status.busy": "2024-04-13T17:02:28.209363Z",
     "iopub.execute_input": "2024-04-13T17:02:28.210284Z",
     "iopub.status.idle": "2024-04-13T17:02:28.341767Z",
     "shell.execute_reply.started": "2024-04-13T17:02:28.210253Z",
     "shell.execute_reply": "2024-04-13T17:02:28.340909Z"
    },
    "trusted": true,
    "id": "EaHz5BqMs38C",
    "outputId": "8c785b25-b9be-41a2-99cc-526c2587da8d",
    "pycharm": {
     "name": "#%%\n"
    }
   },
   "execution_count": null,
   "outputs": [
    {
     "execution_count": 108,
     "output_type": "execute_result",
     "data": {
      "text/plain": "DatasetDict({\n    train: Dataset({\n        features: ['text', 'aspect', 'label'],\n        num_rows: 5750\n    })\n    test: Dataset({\n        features: ['text', 'aspect', 'label'],\n        num_rows: 639\n    })\n})"
     },
     "metadata": {}
    }
   ]
  },
  {
   "cell_type": "code",
   "source": [
    "class TransformerClassificationModel(nn.Module):\n",
    "    \"\"\"\n",
    "    \"\"\"\n",
    "    def init(self, base_transformer_model: str, num_classes: int):\n",
    "        super(TransformerClassificationModel, self).init()\n",
    "        config = AutoConfig.from_pretrained(base_transformer_model)\n",
    "        self.backbone = AutoModel.from_pretrained(base_transformer_model, config=config)\n",
    "        self.classifier = nn.Linear(self.backbone.config.hidden_size, num_classes)\n",
    "        self.softmax = nn.Softmax(dim=1)\n",
    "\n",
    "    def forward(self, input_ids, attention_mask):\n",
    "        outputs = self.backbone(input_ids=input_ids, attention_mask=attention_mask)\n",
    "        pooled_output = outputs.pooler_output\n",
    "        logits = self.classifier(pooled_output)\n",
    "        probabilities = self.softmax(logits)\n",
    "        return {'logits': logits, 'probabilities': probabilities, 'backbone outputs': outputs}\n"
   ],
   "metadata": {
    "id": "lfFbS7RnGd6-",
    "execution": {
     "iopub.status.busy": "2024-04-13T17:02:36.117664Z",
     "iopub.execute_input": "2024-04-13T17:02:36.118049Z",
     "iopub.status.idle": "2024-04-13T17:02:36.125850Z",
     "shell.execute_reply.started": "2024-04-13T17:02:36.117996Z",
     "shell.execute_reply": "2024-04-13T17:02:36.124917Z"
    },
    "trusted": true,
    "pycharm": {
     "name": "#%%\n"
    }
   },
   "execution_count": null,
   "outputs": []
  },
  {
   "cell_type": "code",
   "source": [
    "def freeze_backbone_function(model: TransformerClassificationModel, freeze=True):\n",
    "    for param in model.backbone.parameters():\n",
    "        param.requires_grad = not freeze\n",
    "    return model"
   ],
   "metadata": {
    "id": "QhL5l75nHJyE",
    "execution": {
     "iopub.status.busy": "2024-04-13T17:02:42.814864Z",
     "iopub.execute_input": "2024-04-13T17:02:42.815735Z",
     "iopub.status.idle": "2024-04-13T17:02:42.820210Z",
     "shell.execute_reply.started": "2024-04-13T17:02:42.815704Z",
     "shell.execute_reply": "2024-04-13T17:02:42.819248Z"
    },
    "trusted": true,
    "pycharm": {
     "name": "#%%\n"
    }
   },
   "execution_count": null,
   "outputs": []
  },
  {
   "cell_type": "code",
   "source": [
    "def wrap(text, aspect):\n",
    "      \"\"\"Функция которая оборачивает текст и аспект в формат, принимаемый токенайзером\"\"\"\n",
    "      return f\"[CLS] {text} [SEP] {aspect} [SEP]\""
   ],
   "metadata": {
    "execution": {
     "iopub.status.busy": "2024-04-13T17:02:46.069727Z",
     "iopub.execute_input": "2024-04-13T17:02:46.070442Z",
     "iopub.status.idle": "2024-04-13T17:02:46.074941Z",
     "shell.execute_reply.started": "2024-04-13T17:02:46.070411Z",
     "shell.execute_reply": "2024-04-13T17:02:46.073744Z"
    },
    "trusted": true,
    "id": "OnowIEL2s38C",
    "pycharm": {
     "name": "#%%\n"
    }
   },
   "execution_count": null,
   "outputs": []
  },
  {
   "cell_type": "code",
   "source": [
    "# Параметры модели\n",
    "MAX_LENGTH = 256\n",
    "BATCH_SIZE = 32\n",
    "LR = 3e-4\n",
    "NUM_EPOCHS = 3\n",
    "FREEZE_BACKBONE = False"
   ],
   "metadata": {
    "execution": {
     "iopub.status.busy": "2024-04-13T17:03:56.468814Z",
     "iopub.execute_input": "2024-04-13T17:03:56.469275Z",
     "iopub.status.idle": "2024-04-13T17:03:56.474750Z",
     "shell.execute_reply.started": "2024-04-13T17:03:56.469245Z",
     "shell.execute_reply": "2024-04-13T17:03:56.473567Z"
    },
    "trusted": true,
    "id": "7KZvCb7Xs38C",
    "pycharm": {
     "name": "#%%\n"
    }
   },
   "execution_count": null,
   "outputs": []
  },
  {
   "cell_type": "code",
   "source": [
    "import torch\n",
    "import torch.nn as nn\n",
    "from torch.utils.data import DataLoader\n",
    "from transformers import AutoTokenizer\n",
    "from transformers import AdamW\n",
    "from transformers import get_linear_schedule_with_warmup\n",
    "from sklearn.metrics import accuracy_score, f1_score\n",
    "from sklearn.model_selection import train_test_split\n",
    "import numpy as np\n",
    "import copy\n",
    "\n",
    "\n",
    "class TransformerClassificationTrainer:\n",
    "    def __init__(self, model, tokenizer, max_length=MAX_LENGTH, batch_size=BATCH_SIZE, lr=LR,\n",
    "                 num_epochs=NUM_EPOCHS, freeze_backbone=FREEZE_BACKBONE):\n",
    "        self.model = freeze_backbone_function(model, freeze_backbone)\n",
    "        self.tokenizer = tokenizer\n",
    "        self.max_length = max_length\n",
    "        self.batch_size = batch_size\n",
    "        self.lr = lr\n",
    "        self.num_epochs = num_epochs\n",
    "\n",
    "    def preprocess_data(self, texts, aspects, labels):\n",
    "        #inputs = self.tokenizer(texts, padding=True, truncation=True, max_length=self.max_length, return_tensors=\"pt\")\n",
    "        inputs = self.tokenizer([wrap(text, aspect) for text, aspect in zip(texts, aspects)],\n",
    "                                max_length=self.max_length, truncation=True, padding=True, return_tensors=\"pt\")\n",
    "        labels = torch.tensor(labels)\n",
    "        return inputs, labels\n",
    "\n",
    "    def train(self, train_texts, train_aspects, train_labels):\n",
    "        train_inputs, train_labels = self.preprocess_data(train_texts, train_aspects, train_labels)\n",
    "        train_data = torch.utils.data.TensorDataset(train_inputs['input_ids'], train_inputs['attention_mask'], train_labels)\n",
    "        train_loader = DataLoader(train_data, batch_size=self.batch_size, shuffle=True)\n",
    "\n",
    "        optimizer = AdamW(self.model.parameters(), lr=self.lr)\n",
    "        loss_fn = nn.CrossEntropyLoss()\n",
    "\n",
    "        self.model.to(device)\n",
    "        self.model.train()\n",
    "\n",
    "        for epoch in range(self.num_epochs):\n",
    "            total_loss = 0\n",
    "            for batch in train_loader:\n",
    "                batch = tuple(t.to(device) for t in batch)\n",
    "                input_ids, attention_mask, labels = batch\n",
    "\n",
    "                optimizer.zero_grad()\n",
    "                outputs = self.model(input_ids, attention_mask)\n",
    "                logits = outputs['logits']\n",
    "                loss = loss_fn(logits, labels)\n",
    "                total_loss += loss.item()\n",
    "\n",
    "                loss.backward()\n",
    "                torch.nn.utils.clip_grad_norm_(self.model.parameters(), 1.0)\n",
    "                optimizer.step()\n",
    "\n",
    "            avg_train_loss = total_loss / len(train_loader)\n",
    "            print(f\"Epoch {epoch+1}/{self.num_epochs}, Train Loss: {avg_train_loss:.4f}\")\n",
    "\n",
    "        return self.model\n",
    "\n",
    "    def evaluate(self, test_texts, test_aspects, test_labels):\n",
    "        self.model.eval()\n",
    "        test_inputs, test_labels = self.preprocess_data(test_texts, test_aspects, test_labels)\n",
    "        test_data = torch.utils.data.TensorDataset(test_inputs['input_ids'], test_inputs['attention_mask'], test_labels)\n",
    "        test_loader = DataLoader(test_data, batch_size=self.batch_size, shuffle=False)\n",
    "\n",
    "        predictions = []\n",
    "        true_labels = []\n",
    "\n",
    "        with torch.no_grad():\n",
    "            for batch in test_loader:\n",
    "                batch = tuple(t.to(device) for t in batch)\n",
    "                input_ids, attention_mask, labels = batch\n",
    "                outputs = self.model(input_ids, attention_mask)\n",
    "                logits = outputs['logits']\n",
    "                preds = torch.argmax(logits, dim=1).cpu().numpy()\n",
    "                predictions.extend(preds)\n",
    "                true_labels.extend(labels.cpu().numpy())\n",
    "\n",
    "        accuracy = accuracy_score(true_labels, predictions)\n",
    "        print(f\"Accuracy: {accuracy:.4f}\")\n",
    "        f1 = f1_score(true_labels, predictions, average='macro')\n",
    "        print(f\"F1 score: {f1:.4f}\")\n"
   ],
   "metadata": {
    "id": "03FeqTy0HDoI",
    "execution": {
     "iopub.status.busy": "2024-04-13T17:04:32.547183Z",
     "iopub.execute_input": "2024-04-13T17:04:32.547942Z",
     "iopub.status.idle": "2024-04-13T17:04:32.567256Z",
     "shell.execute_reply.started": "2024-04-13T17:04:32.547913Z",
     "shell.execute_reply": "2024-04-13T17:04:32.566237Z"
    },
    "trusted": true,
    "pycharm": {
     "name": "#%%\n"
    }
   },
   "execution_count": null,
   "outputs": []
  },
  {
   "cell_type": "code",
   "source": [
    "torch.cuda.empty_cache()"
   ],
   "metadata": {
    "id": "kb_iwFIkHQdB",
    "execution": {
     "iopub.status.busy": "2024-04-13T17:04:09.341970Z",
     "iopub.execute_input": "2024-04-13T17:04:09.342738Z",
     "iopub.status.idle": "2024-04-13T17:04:09.346848Z",
     "shell.execute_reply.started": "2024-04-13T17:04:09.342705Z",
     "shell.execute_reply": "2024-04-13T17:04:09.345857Z"
    },
    "trusted": true,
    "pycharm": {
     "name": "#%%\n"
    }
   },
   "execution_count": null,
   "outputs": []
  },
  {
   "cell_type": "code",
   "source": [
    "rt2 = TransformerClassificationModel(\"cointegrated/rubert-tiny2\", num_classes=5)\n",
    "rt2_tokenizer = AutoTokenizer.from_pretrained(\"cointegrated/rubert-tiny2\")\n",
    "rt2_trainer = TransformerClassificationTrainer(model=rt2,\n",
    "                                               tokenizer=rt2_tokenizer,\n",
    "                                               freeze_backbone=False,\n",
    "                                               num_epochs=15)\n",
    "\n",
    "rt2_trained = rt2_trainer.train(dataset['train']['text'], dataset['train']['aspect'], dataset['train']['label'])\n",
    "rt2_trainer.evaluate(dataset['test']['text'], dataset['test']['aspect'], dataset['test']['label'])"
   ],
   "metadata": {
    "id": "ST7-ZSK02cnV",
    "execution": {
     "iopub.status.busy": "2024-04-13T17:04:36.795248Z",
     "iopub.execute_input": "2024-04-13T17:04:36.796017Z",
     "iopub.status.idle": "2024-04-13T17:08:37.183658Z",
     "shell.execute_reply.started": "2024-04-13T17:04:36.795976Z",
     "shell.execute_reply": "2024-04-13T17:08:37.182344Z"
    },
    "trusted": true,
    "outputId": "67f0babe-102a-4dfc-86ca-827bebbf818d",
    "pycharm": {
     "name": "#%%\n"
    }
   },
   "execution_count": null,
   "outputs": [
    {
     "name": "stderr",
     "text": "/opt/conda/lib/python3.10/site-packages/transformers/optimization.py:457: FutureWarning: This implementation of AdamW is deprecated and will be removed in a future version. Use the PyTorch implementation torch.optim.AdamW instead, or set `no_deprecation_warning=True` to disable this warning\n  warnings.warn(\n",
     "output_type": "stream"
    },
    {
     "name": "stdout",
     "text": "Epoch 1/15, Train Loss: 1.0534\nEpoch 2/15, Train Loss: 0.7417\nEpoch 3/15, Train Loss: 0.4975\nEpoch 4/15, Train Loss: 0.3916\nEpoch 5/15, Train Loss: 0.3236\nEpoch 6/15, Train Loss: 0.2640\nEpoch 7/15, Train Loss: 0.2480\nEpoch 8/15, Train Loss: 0.2159\nEpoch 9/15, Train Loss: 0.2083\nEpoch 10/15, Train Loss: 0.1980\nEpoch 11/15, Train Loss: 0.1895\nEpoch 12/15, Train Loss: 0.1819\nEpoch 13/15, Train Loss: 0.1840\nEpoch 14/15, Train Loss: 0.1722\nEpoch 15/15, Train Loss: 0.1654\nAccuracy: 0.5947\nF1 score: 0.4454\n",
     "output_type": "stream"
    }
   ]
  },
  {
   "cell_type": "code",
   "source": [
    "def show_examples(model, tokenizer, num_examples = 10):\n",
    "    model.eval()\n",
    "    for i in range(num_examples):\n",
    "        #idx = np.random.randint(0, len(dataset))\n",
    "        idx = i\n",
    "        example = dataset[\"test\"][idx]\n",
    "        text, aspect, label = example[\"text\"], example[\"aspect\"], example[\"label\"]\n",
    "        inputs = tokenizer([wrap(text, aspect)], truncation=True, padding=True, return_tensors=\"pt\").to(device)\n",
    "\n",
    "        with torch.no_grad():\n",
    "            input_ids, attention_mask = inputs[\"input_ids\"], inputs[\"attention_mask\"]\n",
    "            output = model(input_ids, attention_mask)\n",
    "            logits = output['logits']\n",
    "            preds = torch.argmax(logits, dim=1).cpu().numpy()\n",
    "            print(f\"EXAMPLE {i+1}\")\n",
    "            print(\"TEXT: \", text)\n",
    "            print(\"ASPECT: \", aspect)\n",
    "            print(\"LABEL: \", label)\n",
    "            print(\"PREDS: \", preds)"
   ],
   "metadata": {
    "execution": {
     "iopub.status.busy": "2024-04-13T17:12:42.129910Z",
     "iopub.execute_input": "2024-04-13T17:12:42.130751Z",
     "iopub.status.idle": "2024-04-13T17:12:42.138947Z",
     "shell.execute_reply.started": "2024-04-13T17:12:42.130719Z",
     "shell.execute_reply": "2024-04-13T17:12:42.137825Z"
    },
    "trusted": true,
    "id": "e0OEjnmAs38D",
    "pycharm": {
     "name": "#%%\n"
    }
   },
   "execution_count": null,
   "outputs": []
  },
  {
   "cell_type": "code",
   "source": [],
   "metadata": {
    "id": "dmnXSSkyMxJ7",
    "pycharm": {
     "name": "#%%\n"
    }
   },
   "execution_count": null,
   "outputs": []
  }
 ]
}